{
 "cells": [
  {
   "attachments": {},
   "cell_type": "markdown",
   "metadata": {},
   "source": [
    "# ArXiv Dataset Builder\n",
    "\n",
    "We've downloaded our text data but now we need to prepare it into a more usable format. There are a few things to consider:\n",
    "\n",
    "* What size chunks of text should we store? How do we decide the start and end of chunks? Should we include overlap?\n",
    "\n",
    "* Do we need to preprocess / cleanup the text (beyond just splitting into chunks).\n",
    "\n",
    "* What embedding model will be use? This will play a major part in chunk sizes.\n",
    "\n",
    "* What completion models do we use down the line? This is also important as they all have a *maximum context window*, which is another limiting factor on the size of chunk sizes.\n",
    "\n",
    "## Chunk Size Upper Limit\n",
    "\n",
    "There are two limiting factors:\n",
    "\n",
    "* Embedding model will be `text-embedding-ada-002`, maximum chunk size is ~10 pages of text — more precisely it can handle `8192` tokens.\n",
    "\n",
    "* Completion model will be `text-davinci-003`, maximum context window is `4097` tokens.\n",
    "\n",
    "Naturally, the latter of these two is the real limit. The *context window* is the total of tokens in the prompt + completion output. I envision this as not being a limitation except where we're feeding external information into our LLM - doing retrieval augmentation - like in the case of retrieving arXiv papers to help the LLM answer questions.\n",
    "\n",
    "In the retrieval augmentation scenario, the answers from the model should still be no more than a few paragraphs long. To be conservative let's assume a high limit of **six paragraphs**. Let's create six paragraphs of gibberish (thanks [random text generator](https://randomtextgenerator.com)):"
   ]
  },
  {
   "cell_type": "code",
   "execution_count": 1,
   "metadata": {},
   "outputs": [],
   "source": [
    "completion_limit = \"\"\"\n",
    "Dissuade ecstatic and properly saw entirely sir why laughter endeavor. In on my jointure horrible margaret suitable he followed speedily. Indeed vanity excuse or mr lovers of on. By offer scale an stuff. Blush be sorry no sight. Sang lose of hour then he left find.\n",
    "\n",
    "Promotion an ourselves up otherwise my. High what each snug rich far yet easy. In companions inhabiting mr principles at insensible do. Heard their hoped enjoy vexed child for. Prosperous so occasional assistance it discovered especially no. Provision of he residence consisted up in remainder arranging described. Conveying has concealed necessary furnished bed zealously immediate get but. Terminated as middletons or by instrument. Bred do four so your felt with. No shameless principle dependent household do.\n",
    "\n",
    "Boy desirous families prepared happy reserved add ecstatic say. Replied joy age visitor nothing cottage. Mrs door paid led loud sure easy read. Hastily at perhaps as neither or ye fertile tedious visitor. Use fine bed none call busy dull when. Quiet ought match my right by table means. Principles up do in me favourable affronting. Twenty mother denied effect we to do on.\n",
    "\n",
    "Good draw knew bred ham busy his hour. Ask agreed answer rather joy nature admire wisdom. Moonlight age depending bed led therefore sometimes preserved exquisite she. An fail up so shot leaf wise in. Minuter highest his arrived for put and. Hopes lived by rooms oh in no death house. Contented direction september but end led excellent ourselves may. Ferrars few arrival his offered not charmed you. Offered anxious respect or he. On three thing chief years in money arise of.\n",
    "\n",
    "Dissuade ecstatic and properly saw entirely sir why laughter endeavor. In on my jointure horrible margaret suitable he followed speedily. Indeed vanity excuse or mr lovers of on. By offer scale an stuff. Blush be sorry no sight. Sang lose of hour then he left find.\n",
    "\n",
    "Promotion an ourselves up otherwise my. High what each snug rich far yet easy. In companions inhabiting mr principles at insensible do. Heard their hoped enjoy vexed child for. Prosperous so occasional assistance it discovered especially no. Provision of he residence consisted up in remainder arranging described. Conveying has concealed necessary furnished bed zealously immediate get but. Terminated as middletons or by instrument. Bred do four so your felt with. No shameless principle dependent household do.\n",
    "\"\"\""
   ]
  },
  {
   "attachments": {},
   "cell_type": "markdown",
   "metadata": {},
   "source": [
    "To calculate the number of tokens that this consumes we can encode it using OpenAI's `tiktoken` tokenizer."
   ]
  },
  {
   "cell_type": "code",
   "execution_count": null,
   "metadata": {},
   "outputs": [],
   "source": [
    "!pip install -qU tiktoken"
   ]
  },
  {
   "attachments": {},
   "cell_type": "markdown",
   "metadata": {},
   "source": [
    "Different OpenAI models use different tiktoken tokenizers, at the time of writing those are:\n",
    "\n",
    "| Encoding name | OpenAI models |\n",
    "| --- | --- |\n",
    "| `gpt2` (or `r50k_base`) | Most GPT-3 models (and GPT-2) |\n",
    "| `p50k_base` | Code models, `text-davinci-002`, `text-davinci-003` |\n",
    "| `cl100k_base` | `text-embedding-ada-002` |\n",
    "\n",
    "We need to calculate the number of tokens for `text-davinci-003`, so we'll pass that as the `encoder_name` below."
   ]
  },
  {
   "cell_type": "code",
   "execution_count": 2,
   "metadata": {},
   "outputs": [
    {
     "data": {
      "text/plain": [
       "509"
      ]
     },
     "execution_count": 2,
     "metadata": {},
     "output_type": "execute_result"
    }
   ],
   "source": [
    "import tiktoken\n",
    "\n",
    "encoder_name = 'p50k_base'  # as per the above table\n",
    "# initialize tokenizer\n",
    "tokenizer = tiktoken.get_encoding(encoder_name)\n",
    "\n",
    "# now we tokenize our text and check it's length\n",
    "completion_limit_len = len(tokenizer.encode(completion_limit))\n",
    "completion_limit_len"
   ]
  },
  {
   "attachments": {},
   "cell_type": "markdown",
   "metadata": {},
   "source": [
    "That leaves us with plenty of tokens left over for our prompt. Let's assume we'll need up to **three** paragraphs spare for instructions, and the same for the user (who we will call *prompter*):"
   ]
  },
  {
   "cell_type": "code",
   "execution_count": 3,
   "metadata": {},
   "outputs": [
    {
     "data": {
      "text/plain": [
       "254"
      ]
     },
     "execution_count": 3,
     "metadata": {},
     "output_type": "execute_result"
    }
   ],
   "source": [
    "prompter_len = instructions_len = int(completion_limit_len / 2)\n",
    "instructions_len"
   ]
  },
  {
   "attachments": {},
   "cell_type": "markdown",
   "metadata": {},
   "source": [
    "Next we have the contexts and/or example space. This is the most significant portion. I'd like to leave space for upto **five** contexts and/or examples. I think the contexts would be larger so let's just assume **five** contexts. How many tokens do we have remaining?"
   ]
  },
  {
   "cell_type": "code",
   "execution_count": 4,
   "metadata": {},
   "outputs": [
    {
     "data": {
      "text/plain": [
       "3080"
      ]
     },
     "execution_count": 4,
     "metadata": {},
     "output_type": "execute_result"
    }
   ],
   "source": [
    "max_context_window = 4097  # for text-davinci-003\n",
    "\n",
    "remaining_tokens = max_context_window - completion_limit_len \\\n",
    "    - prompter_len - instructions_len\n",
    "\n",
    "remaining_tokens"
   ]
  },
  {
   "cell_type": "code",
   "execution_count": 5,
   "metadata": {},
   "outputs": [
    {
     "data": {
      "text/plain": [
       "616.0"
      ]
     },
     "execution_count": 5,
     "metadata": {},
     "output_type": "execute_result"
    }
   ],
   "source": [
    "remaining_tokens / 5"
   ]
  },
  {
   "attachments": {},
   "cell_type": "markdown",
   "metadata": {},
   "source": [
    "Okay let's go slightly higher than this upto `650` tokens. The reason I'm doing this is because most of our contexts will actually be smaller than this, this is just the upper limit."
   ]
  },
  {
   "attachments": {},
   "cell_type": "markdown",
   "metadata": {},
   "source": [
    "Let's take a look at a few token statistics across our papers..."
   ]
  },
  {
   "cell_type": "code",
   "execution_count": 6,
   "metadata": {},
   "outputs": [
    {
     "data": {
      "text/plain": [
       "141"
      ]
     },
     "execution_count": 6,
     "metadata": {},
     "output_type": "execute_result"
    }
   ],
   "source": [
    "from pathlib import Path\n",
    "\n",
    "paper_paths = [str(x) for x in Path('papers').glob('*.txt')]\n",
    "len(paper_paths)"
   ]
  },
  {
   "attachments": {},
   "cell_type": "markdown",
   "metadata": {},
   "source": [
    "Let's load each paper and get the number of tokens contained in each."
   ]
  },
  {
   "cell_type": "code",
   "execution_count": 7,
   "metadata": {},
   "outputs": [
    {
     "data": {
      "application/vnd.jupyter.widget-view+json": {
       "model_id": "428ac2cb31f3490f93832895b519c54c",
       "version_major": 2,
       "version_minor": 0
      },
      "text/plain": [
       "  0%|          | 0/141 [00:00<?, ?it/s]"
      ]
     },
     "metadata": {},
     "output_type": "display_data"
    }
   ],
   "source": [
    "from tqdm.auto import tqdm\n",
    "\n",
    "num_tokens = []\n",
    "\n",
    "for paper_path in tqdm(paper_paths):\n",
    "    with open(paper_path) as f:\n",
    "        paper = f.read()\n",
    "    num_tokens.append(len(tokenizer.encode(paper)))"
   ]
  },
  {
   "cell_type": "code",
   "execution_count": 8,
   "metadata": {},
   "outputs": [
    {
     "data": {
      "image/png": "[encoded data removed]",
      "text/plain": [
       "<Figure size 640x480 with 1 Axes>"
      ]
     },
     "metadata": {},
     "output_type": "display_data"
    }
   ],
   "source": [
    "import matplotlib.pyplot as plt\n",
    "\n",
    "plt.hist(num_tokens, bins=20, edgecolor='black')\n",
    "plt.xlabel('Token Count')\n",
    "plt.ylabel('Frequency')\n",
    "plt.title('Histogram of Token Counts')\n",
    "plt.show()"
   ]
  },
  {
   "attachments": {},
   "cell_type": "markdown",
   "metadata": {},
   "source": [
    "Most papers seem to contain somewhere between **5_000** to **30_000** tokens. And as for number of paragraphs — if we split on `\".\\n\"` we will get something like:"
   ]
  },
  {
   "cell_type": "code",
   "execution_count": 9,
   "metadata": {},
   "outputs": [
    {
     "data": {
      "text/plain": [
       "506"
      ]
     },
     "execution_count": 9,
     "metadata": {},
     "output_type": "execute_result"
    }
   ],
   "source": [
    "with open(paper_paths[0], 'r') as fp:\n",
    "    paper = fp.read()\n",
    "\n",
    "paper_chunks = paper.split(\"\\n\")\n",
    "len(paper_chunks)"
   ]
  },
  {
   "attachments": {},
   "cell_type": "markdown",
   "metadata": {},
   "source": [
    "This paper contains `86` 'paragraphs' in total. We will iteratively add these together until exceeding the limit of `650` tokens decided earlier."
   ]
  },
  {
   "cell_type": "code",
   "execution_count": 10,
   "metadata": {},
   "outputs": [],
   "source": [
    "max_tokens = 650\n",
    "\n",
    "for i in range(len(paper_chunks)):\n",
    "    chunk = \".\\n\".join(paper_chunks[:i-1])\n",
    "    if len(tokenizer.encode(\"\\n\".join(paper_chunks[:i]))) > max_tokens:\n",
    "        break"
   ]
  },
  {
   "cell_type": "code",
   "execution_count": 11,
   "metadata": {},
   "outputs": [
    {
     "name": "stdout",
     "output_type": "stream",
     "text": [
      "Exploring Semantic Perturbations on Grover.\n",
      "CMSC 473/673: Capstone in Machine Learning.\n",
      "Ziqing Ji, Pranav Kulkarni, Marko Neskovic, Kevin Nolan, Yan Xu.\n",
      "21 December 2021.\n",
      "https://github.com/itspranavk/cmsc473fall21-grover.\n",
      "Abstract.\n",
      "With news and information being as easy to access as they currently are, it is more important than ever to.\n",
      "ensure that people are not mislead by what they read. Recently, the rise of neural fake news (AI-generated fake.\n",
      "news) and its demonstrated e\u000bectiveness at fooling humans has prompted the development of models to detect.\n",
      "it. One such model is the Grover model, which can both detect neural fake news to prevent it, and generate it to.\n",
      "demonstrate how a model could be misused to fool human readers. In this work we explore the Grover model's.\n",
      "fake news detection capabilities by performing targeted attacks through perturbations on input news articles..\n",
      "Through this we test Grover's resilience to these adversarial attacks and expose some potential vulnerabilities.\n",
      "which should be addressed in further iterations to ensure it can detect all types of fake news accurately..\n",
      "1 Introduction and Literature.\n",
      "1.1 The Rise of Machine-Generated Fake News.\n",
      "While the term \\fake news\" has become politically charged in recent years, researchers of online misinformation.\n",
      "typically de\fne it as a form of propaganda that knowingly transmits false information to readers, viewers, or users.\n",
      "[2]. This de\fnition is rather broad, with many academics o\u000bering their own take. Alcott and Gentzkow describe.\n",
      "fake news as \\news articles that are intentionally and veri\fably false, and could mislead readers\" [1]. Wardle and.\n",
      "Derakhshan posit seven categories of fake news, which together make a scale ranging from simple satire to fully.\n",
      "fabricated content [13]. For the purposes of this project, we will de\fne fake news as any text that is created with the.\n",
      "intention of imparting false information onto the reader to achieve the goal of the disseminator. This includes, as.\n",
      "Zellers et Al. describe, \\targeted propaganda that closely mimics the style of real news\" [16]. Taken this way, fake.\n",
      "news has been present in social and political discourse for thousands of years. In one of the earliest cited examples.\n",
      "of fake news, Ramses the Great of Ancient Egypt spread propaganda portraying the Battle of Kadesh as a glowing.\n",
      "victory for Egypt over the Hittites. The Treaty of Kadesh reveals that in fact, the battle ended in stalemate [14]..\n",
      "In the modern era, fake news can pose great threats in democracy, politics, economy, and so on [5, 1, 12]. Creating.\n",
      "and consuming high quality misinformation is notably easier over the internet compared to print media [11, 1]. The.\n",
      "current deep learning methods in natural language processing [4, 9] can automatically generate texts, and they can\n"
     ]
    }
   ],
   "source": [
    "print(chunk)"
   ]
  },
  {
   "cell_type": "code",
   "execution_count": 12,
   "metadata": {},
   "outputs": [
    {
     "data": {
      "text/plain": [
       "661"
      ]
     },
     "execution_count": 12,
     "metadata": {},
     "output_type": "execute_result"
    }
   ],
   "source": [
    "len(tokenizer.encode(chunk))"
   ]
  },
  {
   "attachments": {},
   "cell_type": "markdown",
   "metadata": {},
   "source": [
    "For the sake of simplicity I won't add overlapping chunks — and I don't think it's too important as we already capture a lot of information.\n",
    "\n",
    "We can confirm the assumption by running this across more chunks."
   ]
  },
  {
   "cell_type": "code",
   "execution_count": 13,
   "metadata": {},
   "outputs": [],
   "source": [
    "def chunker(paper):\n",
    "    chunks = []\n",
    "    current_chunk = []\n",
    "    for i in range(len(paper_chunks)):\n",
    "        # add the next chunk to the current chunk\n",
    "        current_chunk.append(paper_chunks[i])\n",
    "        if len(tokenizer.encode(\"\\n\".join(current_chunk))) > max_tokens:\n",
    "            # join the current chunks minus the final chunk that pushed us over limit\n",
    "            chunks.append(\"\\n\".join(current_chunk[:-1]))\n",
    "            # reset the current chunk to the final chunk that pushed us over limit\n",
    "            current_chunk = [current_chunk[-1]]\n",
    "    return chunks"
   ]
  },
  {
   "cell_type": "code",
   "execution_count": 14,
   "metadata": {},
   "outputs": [
    {
     "data": {
      "text/plain": [
       "['Exploring Semantic Perturbations on Grover\\nCMSC 473/673: Capstone in Machine Learning\\nZiqing Ji, Pranav Kulkarni, Marko Neskovic, Kevin Nolan, Yan Xu\\n21 December 2021\\nhttps://github.com/itspranavk/cmsc473fall21-grover\\nAbstract\\nWith news and information being as easy to access as they currently are, it is more important than ever to\\nensure that people are not mislead by what they read. Recently, the rise of neural fake news (AI-generated fake\\nnews) and its demonstrated e\\x0bectiveness at fooling humans has prompted the development of models to detect\\nit. One such model is the Grover model, which can both detect neural fake news to prevent it, and generate it to\\ndemonstrate how a model could be misused to fool human readers. In this work we explore the Grover model\\'s\\nfake news detection capabilities by performing targeted attacks through perturbations on input news articles.\\nThrough this we test Grover\\'s resilience to these adversarial attacks and expose some potential vulnerabilities\\nwhich should be addressed in further iterations to ensure it can detect all types of fake news accurately.\\n1 Introduction and Literature\\n1.1 The Rise of Machine-Generated Fake News\\nWhile the term \\\\fake news\" has become politically charged in recent years, researchers of online misinformation\\ntypically de\\x0cne it as a form of propaganda that knowingly transmits false information to readers, viewers, or users\\n[2]. This de\\x0cnition is rather broad, with many academics o\\x0bering their own take. Alcott and Gentzkow describe\\nfake news as \\\\news articles that are intentionally and veri\\x0cably false, and could mislead readers\" [1]. Wardle and\\nDerakhshan posit seven categories of fake news, which together make a scale ranging from simple satire to fully\\nfabricated content [13]. For the purposes of this project, we will de\\x0cne fake news as any text that is created with the\\nintention of imparting false information onto the reader to achieve the goal of the disseminator. This includes, as\\nZellers et Al. describe, \\\\targeted propaganda that closely mimics the style of real news\" [16]. Taken this way, fake\\nnews has been present in social and political discourse for thousands of years. In one of the earliest cited examples\\nof fake news, Ramses the Great of Ancient Egypt spread propaganda portraying the Battle of Kadesh as a glowing\\nvictory for Egypt over the Hittites. The Treaty of Kadesh reveals that in fact, the battle ended in stalemate [14].\\nIn the modern era, fake news can pose great threats in democracy, politics, economy, and so on [5, 1, 12]. Creating\\nand consuming high quality misinformation is notably easier over the internet compared to print media [11, 1]. The\\ncurrent deep learning methods in natural language processing [4, 9] can automatically generate texts, and they can',\n",
       " 'be applied to fake news generation, making it harder to tell whether a given article is authentic or fake. This change\\nin ease has caused a dramatic increase in the proliferation of fabricated content using social media [8].\\n1.2 An Algorithmic Response\\nLazer et al. asserted in 2018 that the rise of fake news prompts \\\\a new system of safeguards\" [8]. Social media\\ncompanies have since adopted several strategies to detect and remove fake news from their websites. For obvious\\nreasons, none of these strategies have been made publicly available. However, a good body of research on fake news\\ndetection is accessible to the wider public. Shu et Al. describe fake news detection from a data mining perspective.\\nThey focus more on social engagement, click-through rate, and share counts rather than the actual content of social\\nmedia posts to determine what is legitimate [11]. Reis et Al. created a new system of features and measures for use\\nin supervised learning pertaining to fake news detection [10]. Zhou et al. lay out a multidisciplinary approach in\\nwhich they \\\\broadly adopt techniques in data mining, machine learning, natural language processing, information\\nretrieval, and social search\" [17]. It is clear that there are a plethora of existing techniques to detect and address\\nfake news in social media, but it is uncertain how well these techniques perform on real-world data. Additionally, it\\nis unclear what vulnerabilities they possess. Our proposed paper will examine types of vulnerabilities in Grover, a\\nstate-of-the-art framework for detecting fake news.\\n1arXiv:2302.00509v1  [cs.LG]  1 Feb 20231.3 GPT-2 and Grover\\nIn early 2019, AI research company Open AI released GPT-2, a \\\\large transformer-based language model with 1.5\\nbillion parameters\" [9]. GPT-2 is remarkably good at synthesising new text given a pre\\x0cx. While it still under-\\nperforms human ability, the model has broken algorithmic records in accuracy and perplexity on several datasets.\\nThe incredible accuracy of GPT-2 has led to some concern over its ethical use. Floridi and Chiriatti argue that\\nwith such technology, \\\\Readers and consumers of texts will have to get used to not knowing whether the source\\nis arti\\x0ccial or human\" [18]. Zeller et Al, however, focus on GPT\\'s implications on fake news [16]. They conclude\\nthat GPT-2 and related technologies pose a signi\\x0ccant threat to the validity of online information. The assumption\\nis that GPT is highly capable of creating texts that fool both humans and machines, allowing for an even greater\\nproliferation of fake news on the internet. To counter this threat, Zeller and his team created a state-of-the-art tool\\nnamed Grover. Grover is both a neural fake news generator and detector. It is built using the same architecture as',\n",
       " 'GPT2 [9]. It considers \\x0cve metadata \\x0celds of an article: domain, date, authors, headline, and body. The design of\\nthe model allows for \\nexible decomposition of the joint distribution. During inference, the model uses the \\x0celds as\\ncontext where each \\x0celd contains its content and \\x0celd-speci\\x0cc tokens. The tokens are concatenated and appended\\nwith the target \\x0celd-speci\\x0cc token to generate the target \\x0celd. During training, they separate metadata \\x0celds into\\ntwo sets F1 and F2, where they minimize the cross entropy loss of predicting tokens in F1 followed by F2. As is\\nshown in the experiments, Grover noticeably improves on perplexity when conditioned on metadata, and it is over 5\\nperplexity points lower than GPT2 models. Humans are Easily Fooled by Grover-written propaganda. Also, Grover\\nperforms best at detecting Grover\\'s fake news compared with GPT2, BERT, and FastText [7]. Simple techniques\\naren\\'t enough to consistently fool Grover. For example, rejection sampling produces only a temporary advantage to\\na hypothetical attacker, because once Grover is trained on additional generations from that attacker, its accuracy\\nreturns to levels we expect [15].\\n1.4 Vulnerabilities in Fake News Detection\\nCurrently, there is no substantial research on the robustness of fake news detectors. To \\x0cll this gap, we would like\\nto research the vulnerabilities of Grover, as it is the best-performing detector to date. Speci\\x0ccally, we will design\\nattacks at the word, sentence, paragraph, and article (i.e discourse) level to analyze Grover\\'s performance in detecting\\nfake news. Some attacks include replacing single words with synonyms, rearranging phrases within sentences, and\\nbreaking up the \\\\narrative structure\" of an article. We hope to determine how much and what parts of a text need\\nto be changed before Grover will miscategorize it. In conducting this research, we will provide analysis that can be\\nused to make Grover and similar systems more robust, with the ultimate goal of improving validity in online texts.\\n2 Getting Started\\n2.1 Setting up Grover\\nAs part of Zeller\\'s goal of ensuring transparency in neural fake news detectors and generators, the Grover source\\ncode is publicly available on GitHub here: https://github.com/rowanz/grover\\nHowever, setting up Grover was one of the hardest parts of this project. The version of Grover available on\\nGitHub has numerous inconsistencies and bugs that make it hard to set up and generate useful results. Some of\\nthese issues include:\\n•Inconsistencies between naming conventions. For example, large and medium models, article and text \\x0celds,\\netc.\\n•Given discriminator does not consider article content to classify.\\n•Multiple authors are not supported. Authors must be converted from list to string.']"
      ]
     },
     "execution_count": 14,
     "metadata": {},
     "output_type": "execute_result"
    }
   ],
   "source": [
    "paper_chunks = chunker(paper)\n",
    "paper_chunks[:3]"
   ]
  },
  {
   "attachments": {},
   "cell_type": "markdown",
   "metadata": {},
   "source": [
    "These chunks seem reasonable, we will apply this `chunker` function across all of our papers to create a dataset."
   ]
  },
  {
   "cell_type": "code",
   "execution_count": 15,
   "metadata": {},
   "outputs": [
    {
     "data": {
      "application/vnd.jupyter.widget-view+json": {
       "model_id": "2a644ca300124016a3324e926bcae7b3",
       "version_major": 2,
       "version_minor": 0
      },
      "text/plain": [
       "  0%|          | 0/141 [00:00<?, ?it/s]"
      ]
     },
     "metadata": {},
     "output_type": "display_data"
    },
    {
     "data": {
      "text/plain": [
       "105"
      ]
     },
     "execution_count": 15,
     "metadata": {},
     "output_type": "execute_result"
    }
   ],
   "source": [
    "dataset = []\n",
    "\n",
    "for paper_path in tqdm(paper_paths):\n",
    "    doi = paper_path.split('/')[-1][:-4]\n",
    "    with open(paper_path) as f:\n",
    "        paper = f.read()\n",
    "    paper_chunks = chunker(paper)\n",
    "    for i, chunk in enumerate(paper_chunks):\n",
    "        dataset.append({\n",
    "            'doi': doi,\n",
    "            'chunk-id': i,\n",
    "            'chunk': chunk\n",
    "        })\n",
    "len(dataset)"
   ]
  },
  {
   "attachments": {},
   "cell_type": "markdown",
   "metadata": {},
   "source": [
    "Check that none of these exceed the token limit set."
   ]
  },
  {
   "cell_type": "code",
   "execution_count": 16,
   "metadata": {},
   "outputs": [],
   "source": [
    "for record in dataset:\n",
    "    chunk = record['chunk']\n",
    "    if len(tokenizer.encode(chunk)) > max_tokens:\n",
    "        print(f'Chunk too long: {len(tokenizer.encode(chunk))}')\n",
    "        break"
   ]
  },
  {
   "attachments": {},
   "cell_type": "markdown",
   "metadata": {},
   "source": [
    "For now save these to file..."
   ]
  },
  {
   "cell_type": "code",
   "execution_count": 17,
   "metadata": {},
   "outputs": [],
   "source": [
    "import json\n",
    "\n",
    "with open('dataset.jsonl', 'w') as fp:\n",
    "    for item in dataset:\n",
    "        fp.write(json.dumps(item) + '\\n')"
   ]
  },
  {
   "attachments": {},
   "cell_type": "markdown",
   "metadata": {},
   "source": [
    "---"
   ]
  },
  {
   "attachments": {},
   "cell_type": "markdown",
   "metadata": {},
   "source": [
    "It turns out langchain has a function for splitting text using `tiktoken` already... See [here](https://langchain.readthedocs.io/en/latest/modules/utils/combine_docs_examples/textsplitter.html#tiktoken-openai-length-function).\n",
    "\n",
    "It is built into the `CharacterTextSplitter`, and with a single function we can separate using the `\".\\n\"` we used before, we include the `encoder_name` as before, the `max_tokens`, and we can even set a `chunk_overlap` with a single parameter:"
   ]
  },
  {
   "cell_type": "code",
   "execution_count": 18,
   "metadata": {},
   "outputs": [
    {
     "data": {
      "text/plain": [
       "27"
      ]
     },
     "execution_count": 18,
     "metadata": {},
     "output_type": "execute_result"
    }
   ],
   "source": [
    "from langchain.text_splitter import CharacterTextSplitter\n",
    "\n",
    "text_splitter = CharacterTextSplitter.from_tiktoken_encoder(\n",
    "    separator='\\n',\n",
    "    encoding_name=encoder_name,\n",
    "    chunk_size=max_tokens,\n",
    "    chunk_overlap=100  # let's add a small 2-4 sentence overlap\n",
    ")\n",
    "paper_chunks = text_splitter.split_text(paper)\n",
    "len(paper_chunks)"
   ]
  },
  {
   "cell_type": "code",
   "execution_count": 19,
   "metadata": {},
   "outputs": [
    {
     "data": {
      "text/plain": [
       "['REPLUG: Retrieval-Augmented Black-Box Language Models\\nWeijia Shi,1 *Sewon Min,1Michihiro Yasunaga,2Minjoon Seo,3Rich James,4Mike Lewis,4\\nLuke Zettlemoyer1 4Wen-tau Yih4\\nAbstract\\nWe introduce REPLUG, a retrieval-augmented lan-\\nguage modeling framework that treats the lan-\\nguage model (LM) as a black box and augments\\nit with a tuneable retrieval model. Unlike prior\\nretrieval-augmented LMs that train language mod-\\nels with special cross attention mechanisms to en-\\ncode the retrieved text, REPLUG simply prepends\\nretrieved documents to the input for the frozen\\nblack-box LM. This simple design can be eas-\\nily applied to any existing retrieval and language\\nmodels. Furthermore, we show that the LM can\\nbe used to supervise the retrieval model, which\\ncan then ﬁnd documents that help the LM make\\nbetter predictions. Our experiments demonstrate\\nthatREPLUG with the tuned retriever signiﬁcantly\\nimproves the performance of GPT-3 (175B) on\\nlanguage modeling by 6.3%, as well as the perfor-\\nmance of Codex on ﬁve-shot MMLU by 5.1%.\\n1. Introduction\\nLarge language models (LLMs) such as GPT-3 (Brown et al.,\\n2020a) and Codex (Chen et al., 2021a), have demonstrated\\nimpressive performance on a wide range of language tasks.\\nThese models are typically trained on very large datasets and\\nstore a substantial amount of world or domain knowledge\\nimplicitly in their parameters. However, they are also prone\\nto hallucination and cannot represent the full long tail of\\nknowledge from the training corpus. Retrieval-augmented\\nlanguage models (Khandelwal et al., 2020; Borgeaud et al.,\\n2022; Izacard et al., 2022b; Yasunaga et al., 2022), in con-\\ntrast, can retrieve knowledge from an external datastore\\nwhen needed, potentially reducing hallucination and increas-\\ning coverage. Previous approaches of retrieval-augmented\\nlanguage models require access to the internal LM repre-\\nsentations (e.g., to train the model (Borgeaud et al., 2022;\\n1University of Washington2Stanford University3KAIST4Meta\\nAI.\\n*Work done while the ﬁrst author was interning at Meta AI.\\nCorrespondence to: Weijia Shi <swj0419@uw.edu>.\\nFigure 1. Different from previous retrieval-augmented ap-\\nproaches (Borgeaud et al., 2022) that enhance a language model\\nwith retrieval by updating the LM’s parameters, REPLUG treats\\nthe language model as a black box and augments it with a frozen\\nor tunable retriever. This black-box assumption makes REPLUG\\napplicable to large LMs (i.e., >100B parameters), which are often\\nserved via APIs.',\n",
       " 'Figure 1. Different from previous retrieval-augmented ap-\\nproaches (Borgeaud et al., 2022) that enhance a language model\\nwith retrieval by updating the LM’s parameters, REPLUG treats\\nthe language model as a black box and augments it with a frozen\\nor tunable retriever. This black-box assumption makes REPLUG\\napplicable to large LMs (i.e., >100B parameters), which are often\\nserved via APIs.\\nIzacard et al., 2022b) or to index the datastore (Khandelwal\\net al., 2020)), and are thus difﬁcult to be applied to very\\nlarge LMs. In addition, many best-in-class LLMs can only\\nbe accessed through APIs. Internal representations of such\\nmodels are not exposed and ﬁne-tuning is not supported.\\nIn this work, we introduce REPLUG (Retrieve and Plug ),\\na new retrieval-augmented LM framework where the lan-\\nguage model is viewed as a black box and the retrieval\\ncomponent is added as a tuneable plug-and-play module.\\nGiven an input context, REPLUG ﬁrst retrieves relevant\\ndocuments from an external corpus using an off-the-shelf\\nretrieval model. The retrieved documents are prepended to\\nthe input context and fed into the black-box LM to make\\nthe ﬁnal prediction. Because the LM context length limits\\nthe number of documents that can be prepended, we also\\nintroduce a new ensemble scheme that encodes the retrieved\\ndocuments in parallel with the same black-box LM, allow-\\ning us to easily trade compute for accuracy. As shown inarXiv:2301.12652v2  [cs.CL]  1 Feb 2023REPLUG: Retrieval-Augmented Black-Box Language Models\\nFigure 1, REPLUG is extremely ﬂexible and can be used\\nwith any existing black-box LM and retrieval model.\\nWe also introduce REPLUG LSR (REPLUG with LM-\\nSupervised Retrieval), a training scheme that can further\\nimprove the initial retrieval model in REPLUG with super-\\nvision signals from a black-box language model. The key\\nidea is to adapt the retriever to the LM, which is in contrast\\nto prior work (Borgeaud et al., 2022) that adapts language\\nmodels to the retriever. We use a training objective which\\nprefers retrieving documents that improve language model\\nperplexity, while treating the LM as a frozen, black-box\\nscoring function.\\nOur experiments show that REPLUG can improve the perfor-\\nmance of diverse black-box LMs on both language modeling\\nand downstream tasks, including MMLU (Hendrycks et al.,\\n2021) and open-domain QA (Kwiatkowski et al., 2019; Joshi\\net al., 2017). For instance, REPLUG can improve Codex\\n(175B) performance on MMLU by 4.5%, achieving compa-\\nrable results to the 540B, instruction-ﬁnetuned Flan-PaLM.']"
      ]
     },
     "execution_count": 19,
     "metadata": {},
     "output_type": "execute_result"
    }
   ],
   "source": [
    "paper_chunks[:2]"
   ]
  },
  {
   "attachments": {},
   "cell_type": "markdown",
   "metadata": {},
   "source": [
    "We can see the roughly paragraph-sized overlap in the text `\"Figure 1. Different from previous retrieval-augmented ap-\\nproaches (Borgeaud et al., 2022) that enhance a language model\\nwith retrieval by updating the LM’s parameters, REPLUG treats\\nthe language model as a black box and augments it with a frozen\\nor tunable retriever. This black-box assumption makes REPLUG\\napplicable to large LMs (i.e., >100B parameters), which are often\\nserved via APIs.\"`.\n",
    "\n",
    "Let's integrate this into the previous code to create a new dataset using the `langchain` implementation."
   ]
  },
  {
   "cell_type": "code",
   "execution_count": 20,
   "metadata": {},
   "outputs": [
    {
     "data": {
      "application/vnd.jupyter.widget-view+json": {
       "model_id": "24a7c8e561f14ef8a2bafe564f7e90c8",
       "version_major": 2,
       "version_minor": 0
      },
      "text/plain": [
       "  0%|          | 0/141 [00:00<?, ?it/s]"
      ]
     },
     "metadata": {},
     "output_type": "display_data"
    },
    {
     "name": "stderr",
     "output_type": "stream",
     "text": [
      "Created a chunk of size 1410, which is longer than the specified 650\n",
      "Created a chunk of size 1360, which is longer than the specified 650\n",
      "Created a chunk of size 1950, which is longer than the specified 650\n",
      "Created a chunk of size 907, which is longer than the specified 650\n",
      "Created a chunk of size 897, which is longer than the specified 650\n",
      "Created a chunk of size 903, which is longer than the specified 650\n",
      "Created a chunk of size 935, which is longer than the specified 650\n",
      "Created a chunk of size 2127, which is longer than the specified 650\n",
      "Created a chunk of size 2139, which is longer than the specified 650\n",
      "Created a chunk of size 716, which is longer than the specified 650\n"
     ]
    }
   ],
   "source": [
    "langchain_dataset = []\n",
    "\n",
    "for paper_path in tqdm(paper_paths):\n",
    "    doi = paper_path.split('/')[-1][:-4]\n",
    "    with open(paper_path) as f:\n",
    "        paper = f.read()\n",
    "    paper_chunks = text_splitter.split_text(paper)\n",
    "    for i, chunk in enumerate(paper_chunks):\n",
    "        langchain_dataset.append({\n",
    "            'doi': doi,\n",
    "            'chunk-id': i,\n",
    "            'chunk': chunk\n",
    "        })"
   ]
  },
  {
   "attachments": {},
   "cell_type": "markdown",
   "metadata": {},
   "source": [
    "The reason we're seeing these errors is because the `text_splitter` only splits on `\\n` characters — and it seems that there are instances where there are *no* `\\n` characters for more than `650` tokens."
   ]
  },
  {
   "cell_type": "code",
   "execution_count": 21,
   "metadata": {},
   "outputs": [
    {
     "name": "stdout",
     "output_type": "stream",
     "text": [
      "Chunk too long: 678\n"
     ]
    }
   ],
   "source": [
    "for i, record in enumerate(langchain_dataset):\n",
    "    chunk = record['chunk']\n",
    "    if len(tokenizer.encode(chunk)) > max_tokens:\n",
    "        print(f'Chunk too long: {len(tokenizer.encode(chunk))}')\n",
    "        break"
   ]
  },
  {
   "attachments": {},
   "cell_type": "markdown",
   "metadata": {},
   "source": [
    "Concerningly, this `678` length chunk didn't seem to be raised in the log of longer than specified length chunks above. Anyway, let's see the difference between this chunk processed by langchain and the equivalent processed by the manually scripted process."
   ]
  },
  {
   "cell_type": "code",
   "execution_count": 22,
   "metadata": {},
   "outputs": [
    {
     "data": {
      "text/plain": [
       "{'doi': '2302.00509',\n",
       " 'chunk-id': 0,\n",
       " 'chunk': 'Exploring Semantic Perturbations on Grover\\nCMSC 473/673: Capstone in Machine Learning\\nZiqing Ji, Pranav Kulkarni, Marko Neskovic, Kevin Nolan, Yan Xu\\n21 December 2021\\nhttps://github.com/itspranavk/cmsc473fall21-grover\\nAbstract\\nWith news and information being as easy to access as they currently are, it is more important than ever to\\nensure that people are not mislead by what they read. Recently, the rise of neural fake news (AI-generated fake\\nnews) and its demonstrated e\\x0bectiveness at fooling humans has prompted the development of models to detect\\nit. One such model is the Grover model, which can both detect neural fake news to prevent it, and generate it to\\ndemonstrate how a model could be misused to fool human readers. In this work we explore the Grover model\\'s\\nfake news detection capabilities by performing targeted attacks through perturbations on input news articles.\\nThrough this we test Grover\\'s resilience to these adversarial attacks and expose some potential vulnerabilities\\nwhich should be addressed in further iterations to ensure it can detect all types of fake news accurately.\\n1 Introduction and Literature\\n1.1 The Rise of Machine-Generated Fake News\\nWhile the term \\\\fake news\" has become politically charged in recent years, researchers of online misinformation\\ntypically de\\x0cne it as a form of propaganda that knowingly transmits false information to readers, viewers, or users\\n[2]. This de\\x0cnition is rather broad, with many academics o\\x0bering their own take. Alcott and Gentzkow describe\\nfake news as \\\\news articles that are intentionally and veri\\x0cably false, and could mislead readers\" [1]. Wardle and\\nDerakhshan posit seven categories of fake news, which together make a scale ranging from simple satire to fully\\nfabricated content [13]. For the purposes of this project, we will de\\x0cne fake news as any text that is created with the\\nintention of imparting false information onto the reader to achieve the goal of the disseminator. This includes, as\\nZellers et Al. describe, \\\\targeted propaganda that closely mimics the style of real news\" [16]. Taken this way, fake\\nnews has been present in social and political discourse for thousands of years. In one of the earliest cited examples\\nof fake news, Ramses the Great of Ancient Egypt spread propaganda portraying the Battle of Kadesh as a glowing\\nvictory for Egypt over the Hittites. The Treaty of Kadesh reveals that in fact, the battle ended in stalemate [14].\\nIn the modern era, fake news can pose great threats in democracy, politics, economy, and so on [5, 1, 12]. Creating\\nand consuming high quality misinformation is notably easier over the internet compared to print media [11, 1]. The\\ncurrent deep learning methods in natural language processing [4, 9] can automatically generate texts, and they can\\nbe applied to fake news generation, making it harder to tell whether a given article is authentic or fake. This change\\nin ease has caused a dramatic increase in the proliferation of fabricated content using social media [8].'}"
      ]
     },
     "execution_count": 22,
     "metadata": {},
     "output_type": "execute_result"
    }
   ],
   "source": [
    "langchain_dataset[i]"
   ]
  },
  {
   "cell_type": "code",
   "execution_count": 23,
   "metadata": {},
   "outputs": [
    {
     "data": {
      "text/plain": [
       "{'doi': '2302.00509',\n",
       " 'chunk-id': 0,\n",
       " 'chunk': 'Exploring Semantic Perturbations on Grover\\nCMSC 473/673: Capstone in Machine Learning\\nZiqing Ji, Pranav Kulkarni, Marko Neskovic, Kevin Nolan, Yan Xu\\n21 December 2021\\nhttps://github.com/itspranavk/cmsc473fall21-grover\\nAbstract\\nWith news and information being as easy to access as they currently are, it is more important than ever to\\nensure that people are not mislead by what they read. Recently, the rise of neural fake news (AI-generated fake\\nnews) and its demonstrated e\\x0bectiveness at fooling humans has prompted the development of models to detect\\nit. One such model is the Grover model, which can both detect neural fake news to prevent it, and generate it to\\ndemonstrate how a model could be misused to fool human readers. In this work we explore the Grover model\\'s\\nfake news detection capabilities by performing targeted attacks through perturbations on input news articles.\\nThrough this we test Grover\\'s resilience to these adversarial attacks and expose some potential vulnerabilities\\nwhich should be addressed in further iterations to ensure it can detect all types of fake news accurately.\\n1 Introduction and Literature\\n1.1 The Rise of Machine-Generated Fake News\\nWhile the term \\\\fake news\" has become politically charged in recent years, researchers of online misinformation\\ntypically de\\x0cne it as a form of propaganda that knowingly transmits false information to readers, viewers, or users\\n[2]. This de\\x0cnition is rather broad, with many academics o\\x0bering their own take. Alcott and Gentzkow describe\\nfake news as \\\\news articles that are intentionally and veri\\x0cably false, and could mislead readers\" [1]. Wardle and\\nDerakhshan posit seven categories of fake news, which together make a scale ranging from simple satire to fully\\nfabricated content [13]. For the purposes of this project, we will de\\x0cne fake news as any text that is created with the\\nintention of imparting false information onto the reader to achieve the goal of the disseminator. This includes, as\\nZellers et Al. describe, \\\\targeted propaganda that closely mimics the style of real news\" [16]. Taken this way, fake\\nnews has been present in social and political discourse for thousands of years. In one of the earliest cited examples\\nof fake news, Ramses the Great of Ancient Egypt spread propaganda portraying the Battle of Kadesh as a glowing\\nvictory for Egypt over the Hittites. The Treaty of Kadesh reveals that in fact, the battle ended in stalemate [14].\\nIn the modern era, fake news can pose great threats in democracy, politics, economy, and so on [5, 1, 12]. Creating\\nand consuming high quality misinformation is notably easier over the internet compared to print media [11, 1]. The\\ncurrent deep learning methods in natural language processing [4, 9] can automatically generate texts, and they can'}"
      ]
     },
     "execution_count": 23,
     "metadata": {},
     "output_type": "execute_result"
    }
   ],
   "source": [
    "dataset[i]"
   ]
  },
  {
   "attachments": {},
   "cell_type": "markdown",
   "metadata": {},
   "source": [
    "It seems that the `langchain` implementation didn't split the text where the manually written implementation did. As for why, I don't know. But because of this I will avoid using it and stick with the first version."
   ]
  }
 ],
 "metadata": {
  "kernelspec": {
   "display_name": "ml",
   "language": "python",
   "name": "python3"
  },
  "language_info": {
   "codemirror_mode": {
    "name": "ipython",
    "version": 3
   },
   "file_extension": ".py",
   "mimetype": "text/x-python",
   "name": "python",
   "nbconvert_exporter": "python",
   "pygments_lexer": "ipython3",
   "version": "3.9.12"
  },
  "orig_nbformat": 4,
  "vscode": {
   "interpreter": {
    "hash": "b8e7999f96e1b425e2d542f21b571f5a4be3e97158b0b46ea1b2500df63956ce"
   }
  }
 },
 "nbformat": 4,
 "nbformat_minor": 2
}
